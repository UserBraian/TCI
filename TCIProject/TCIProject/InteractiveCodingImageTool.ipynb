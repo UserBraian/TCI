{
 "cells": [
  {
   "cell_type": "code",
   "execution_count": 1,
   "metadata": {},
   "outputs": [],
   "source": [
    "import sys\n",
    "import os\n",
    "import numpy as np\n",
    "\n",
    "from codingTools import *"
   ]
  },
  {
   "cell_type": "code",
   "execution_count": 2,
   "metadata": {},
   "outputs": [],
   "source": [
    "######LOAD RAW IMAGE######\n",
    "#dtype --> > stands for big endian, i stands for integer, 2 stands for 2 bytes\n",
    "\n",
    "#funciona\n",
    "originalFile=\"../images/n1_GRAY.1_2560_2048_1_0_8_0_0_0.raw\" #uint8\n",
    "ImageRaw = load_image_raw(originalFile, 1, 2560, 2048, \"uint8\") #https://numpy.org/doc/stable/reference/arrays.dtypes.html\n",
    "\n",
    "\n",
    "#no funciona\n",
    "#originalFile=\"../images/03508649.1_512_512_2_0_12_0_0_0d.raw\" #int16\n",
    "#ImageRaw = load_image_raw(originalFile, 1, 512, 512, \">i2\")\n",
    "\n",
    "\n",
    "original_image = ImageRaw.load_image_raw()\n",
    "##############################"
   ]
  },
  {
   "cell_type": "code",
   "execution_count": 3,
   "metadata": {},
   "outputs": [
    {
     "name": "stdout",
     "output_type": "stream",
     "text": [
      "order zero entropy of the image: 7.426142695578908\n",
      "Max value: 255\n",
      "Min value: 0\n",
      "Dynamic range: 255\n"
     ]
    }
   ],
   "source": [
    "########STATISTICS##########\n",
    "statistics = statistics(original_image)\n",
    "entropy = statistics.compute_entropy()\n",
    "print(\"order zero entropy of the image:\", entropy)\n",
    "\n",
    "print('Max value:', statistics.max_value)\n",
    "print('Min value:', statistics.min_value)\n",
    "print('Dynamic range:', statistics.dynamic_range)\n",
    "\n",
    "\n"
   ]
  },
  {
   "cell_type": "code",
   "execution_count": 10,
   "metadata": {},
   "outputs": [
    {
     "name": "stdout",
     "output_type": "stream",
     "text": [
      "open ok\n"
     ]
    },
    {
     "data": {
      "text/plain": [
       "3"
      ]
     },
     "execution_count": 10,
     "metadata": {},
     "output_type": "execute_result"
    }
   ],
   "source": [
    "## input bitstream ## NO HACER CASO\n",
    "inputbit = binary_file_input('bitpacket.txt')\n",
    "inputbit.open_binay_file_input()\n",
    "\n",
    "inputbit.read_value(10)\n"
   ]
  },
  {
   "cell_type": "code",
   "execution_count": 11,
   "metadata": {},
   "outputs": [
    {
     "name": "stdout",
     "output_type": "stream",
     "text": [
      "num of bits: 30\n",
      "open ok\n",
      "size file: 1\n"
     ]
    }
   ],
   "source": [
    "## output bitstream ## NO HACER CASO\n",
    "outputbit = binary_file_output('test.txt')\n",
    "\n",
    "value = bin(10)\n",
    "nBits = 4\n",
    "print(value)\n",
    "print('num of bits:', nBits)\n",
    "outputbit.write_value(value, 4)\n",
    "\n",
    "print('size file:',outputbit.size_of_file())"
   ]
  },
  {
   "cell_type": "code",
   "execution_count": 3,
   "metadata": {},
   "outputs": [
    {
     "name": "stdout",
     "output_type": "stream",
     "text": [
      "open ok\n"
     ]
    }
   ],
   "source": [
    "## SAVE IMAGE ##\n",
    "\n",
    "## para comparar imagenes y saber si bfinput/output funciona bien\n",
    "decodedFile = \"../images/n1_GRAY.1_2560_2048_1_0_8_0_0_0bb.raw\"\n",
    "ImageRawDecoded = save_image_raw(decodedFile)\n",
    "ImageRawDecoded.save_image_raw(original_image, \"uint8\")\n"
   ]
  },
  {
   "cell_type": "code",
   "execution_count": null,
   "metadata": {},
   "outputs": [],
   "source": []
  }
 ],
 "metadata": {
  "kernelspec": {
   "display_name": "Python 3 (ipykernel)",
   "language": "python",
   "name": "python3"
  },
  "language_info": {
   "codemirror_mode": {
    "name": "ipython",
    "version": 3
   },
   "file_extension": ".py",
   "mimetype": "text/x-python",
   "name": "python",
   "nbconvert_exporter": "python",
   "pygments_lexer": "ipython3",
   "version": "3.9.7"
  },
  "toc-autonumbering": true
 },
 "nbformat": 4,
 "nbformat_minor": 4
}
