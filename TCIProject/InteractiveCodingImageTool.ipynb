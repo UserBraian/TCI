{
 "cells": [
  {
   "cell_type": "code",
   "execution_count": 1,
   "metadata": {},
   "outputs": [],
   "source": [
    "import sys\n",
    "import os\n",
    "import numpy as np\n",
    "\n",
    "from codingTools import *"
   ]
  },
  {
   "cell_type": "code",
   "execution_count": 2,
   "metadata": {},
   "outputs": [],
   "source": [
    "######LOAD RAW IMAGE######\n",
    "#dtype --> > stands for big endian, i stands for integer, 2 stands for 2 bytes\n",
    "#originalFile=\"../images/03508649.1_512_512_2_0_12_0_0_0.raw\" #int16\n",
    "#originalFile=\"../images/n1_GRAY.1_2560_2048_1_0_8_0_0_0.raw\" #uint8\n",
    "originalFile=\"../images/03508649.1_128_128_1_0_8_0_0_0.raw\"\n",
    "ImageRaw = load_image_raw(originalFile, 1, 128, 128, \"uint8\")\n",
    "#originalFile = \"../images/03508649.1_512_512_2_0_12_0_0_0d.raw\"\n",
    "#ImageRaw = load_image_raw(originalFile, 1, 512, 512, \">i2\") #https://numpy.org/doc/stable/reference/arrays.dtypes.html\n",
    "original_image = ImageRaw.load_image_raw()\n",
    "##############################"
   ]
  },
  {
   "cell_type": "code",
   "execution_count": 3,
   "metadata": {},
   "outputs": [
    {
     "name": "stdout",
     "output_type": "stream",
     "text": [
      "order zero entropy of the image: 6.7004541529645625\n",
      "Max value: 251\n",
      "Min value: 5\n",
      "Dynamic range: 246\n"
     ]
    }
   ],
   "source": [
    "########STATISTICS##########\n",
    "statistics = statistics(original_image)\n",
    "entropy = statistics.compute_entropy()\n",
    "print(\"order zero entropy of the image:\", entropy)\n",
    "\n",
    "print('Max value:', statistics.max_value)\n",
    "print('Min value:', statistics.min_value)\n",
    "print('Dynamic range:', statistics.dynamic_range)\n",
    "\n",
    "\n"
   ]
  },
  {
   "cell_type": "code",
   "execution_count": 4,
   "metadata": {},
   "outputs": [
    {
     "name": "stdout",
     "output_type": "stream",
     "text": [
      "open ok\n"
     ]
    },
    {
     "data": {
      "text/plain": [
       "3"
      ]
     },
     "execution_count": 4,
     "metadata": {},
     "output_type": "execute_result"
    }
   ],
   "source": [
    "## input bitstream ##\n",
    "inputbit = binary_file_input('bitpacket.txt')\n",
    "inputbit.open_binay_file_input()\n",
    "\n",
    "inputbit.read_value(10)\n"
   ]
  },
  {
   "cell_type": "code",
   "execution_count": 9,
   "metadata": {},
   "outputs": [
    {
     "name": "stdout",
     "output_type": "stream",
     "text": [
      "num of bits: 30\n",
      "open ok\n",
      "size file: 4\n"
     ]
    }
   ],
   "source": [
    "## output bitstream ##\n",
    "outputbit = binary_file_output('test.txt')\n",
    "\n",
    "value = 999999999\n",
    "nBits = utils.needed_bits(value)\n",
    "print('num of bits:', nBits)\n",
    "\n",
    "outputbit.open_binay_file_output()\n",
    "outputbit.write_value(value, nBits)\n",
    "outputbit.close_binary_file_output()\n",
    "\n",
    "print('size file:',outputbit.size_of_file())"
   ]
  },
  {
   "cell_type": "code",
   "execution_count": 2,
   "metadata": {},
   "outputs": [
    {
     "name": "stdout",
     "output_type": "stream",
     "text": [
      "[[[  7  12   8  10   6   4  34  68]\n",
      "  [ 21  33   5   1   6   9  77  88]\n",
      "  [ 15  10   9   4  65  98  45  16]\n",
      "  [ 11  19  27  29  44  37  66  52]\n",
      "  [122 146 173 200 206 201 188 197]\n",
      "  [101 108 100 164 222 178 210 225]\n",
      "  [ 50  30  20   5 199 240 202 190]\n",
      "  [ 15  25   2  10 100  45  21   2]]]\n"
     ]
    }
   ],
   "source": [
    "lista_tridimensional = [\n",
    "    [\n",
    "        [7, 12, 8, 10, 6, 4, 34, 68],\n",
    "        [21, 33, 5, 1, 6, 9, 77, 88],\n",
    "        [15, 10, 9, 4, 65, 98, 45, 16],\n",
    "        [11, 19, 27, 29, 44, 37, 66, 52],\n",
    "        [122, 146, 173, 200, 206, 201, 188, 197],\n",
    "        [101, 108, 100, 164, 222, 178, 210, 225],\n",
    "        [50, 30, 20, 5, 199, 240, 202, 190],\n",
    "        [15, 25, 2, 10, 100, 45, 21, 2],\n",
    "    ]\n",
    "]\n",
    "\n",
    "# Convertir a NumPy array\n",
    "imagen_prueba = np.array(lista_tridimensional)\n",
    "\n",
    "# Imprimir el array de NumPy\n",
    "print(imagen_prueba)\n",
    "\n",
    "imagen_vacia=np.zeros((1,8,8))\n",
    "#print(imagen_vacia)"
   ]
  },
  {
   "cell_type": "code",
   "execution_count": 4,
   "metadata": {},
   "outputs": [
    {
     "ename": "NameError",
     "evalue": "name 'imagen_prueba' is not defined",
     "output_type": "error",
     "traceback": [
      "\u001b[0;31m---------------------------------------------------------------------------\u001b[0m",
      "\u001b[0;31mNameError\u001b[0m                                 Traceback (most recent call last)",
      "\u001b[0;32m/var/folders/tn/bypnp8y93g12wnggs004h9y40000gn/T/ipykernel_5359/1664709175.py\u001b[0m in \u001b[0;36m<module>\u001b[0;34m\u001b[0m\n\u001b[0;32m----> 1\u001b[0;31m \u001b[0mwav\u001b[0m \u001b[0;34m=\u001b[0m \u001b[0mWavelet\u001b[0m\u001b[0;34m(\u001b[0m\u001b[0mimagen_prueba\u001b[0m\u001b[0;34m,\u001b[0m\u001b[0;36m3\u001b[0m\u001b[0;34m)\u001b[0m\u001b[0;34m\u001b[0m\u001b[0;34m\u001b[0m\u001b[0m\n\u001b[0m\u001b[1;32m      2\u001b[0m \u001b[0mwav_forw\u001b[0m \u001b[0;34m=\u001b[0m \u001b[0mwav\u001b[0m\u001b[0;34m.\u001b[0m\u001b[0mforward\u001b[0m\u001b[0;34m(\u001b[0m\u001b[0mimagen_vacia\u001b[0m\u001b[0;34m)\u001b[0m\u001b[0;34m\u001b[0m\u001b[0;34m\u001b[0m\u001b[0m\n\u001b[1;32m      3\u001b[0m \u001b[0mprint\u001b[0m\u001b[0;34m(\u001b[0m\u001b[0;34m'forward \\n'\u001b[0m\u001b[0;34m,\u001b[0m\u001b[0mwav_forw\u001b[0m\u001b[0;34m)\u001b[0m\u001b[0;34m\u001b[0m\u001b[0;34m\u001b[0m\u001b[0m\n\u001b[1;32m      4\u001b[0m \u001b[0mprint\u001b[0m\u001b[0;34m(\u001b[0m\u001b[0;34m'\\n'\u001b[0m\u001b[0;34m)\u001b[0m\u001b[0;34m\u001b[0m\u001b[0;34m\u001b[0m\u001b[0m\n\u001b[1;32m      5\u001b[0m \u001b[0mwav_inv\u001b[0m \u001b[0;34m=\u001b[0m \u001b[0mwav\u001b[0m\u001b[0;34m.\u001b[0m\u001b[0minverse\u001b[0m\u001b[0;34m(\u001b[0m\u001b[0mwav_forw\u001b[0m\u001b[0;34m,\u001b[0m\u001b[0mimagen_vacia\u001b[0m\u001b[0;34m)\u001b[0m\u001b[0;34m\u001b[0m\u001b[0;34m\u001b[0m\u001b[0m\n",
      "\u001b[0;31mNameError\u001b[0m: name 'imagen_prueba' is not defined"
     ]
    }
   ],
   "source": [
    "wav = Wavelet(imagen_prueba,3)\n",
    "wav_forw = wav.forward(imagen_vacia)\n",
    "print('forward \\n',wav_forw)\n",
    "print('\\n')\n",
    "wav_inv = wav.inverse(wav_forw,imagen_vacia)\n",
    "print('inverse \\n',wav_inv)"
   ]
  },
  {
   "cell_type": "code",
   "execution_count": 3,
   "metadata": {},
   "outputs": [
    {
     "name": "stdout",
     "output_type": "stream",
     "text": [
      "original imagen \n",
      " [[[16 21 25 ... 25 22 19]\n",
      "  [19 25 29 ... 29 25 22]\n",
      "  [22 28 34 ... 34 29 25]\n",
      "  ...\n",
      "  [22 28 33 ... 34 30 26]\n",
      "  [19 24 29 ... 30 25 23]\n",
      "  [16 21 25 ... 25 22 19]]]\n",
      "(1, 128, 128)\n",
      "dim: 1\n",
      "fil: 128\n",
      "col 128\n",
      "dim: 1\n",
      "fil: 64\n",
      "col 64\n",
      "dim: 1\n",
      "fil: 32\n",
      "col 32\n",
      "matriz forward Wavelet\n",
      " [[[ 47.  54.  79. ...   4.   3.   3.]\n",
      "  [ 52. 120. 191. ...   4.   4.   3.]\n",
      "  [ 99. 216. 176. ...   5.   4.   4.]\n",
      "  ...\n",
      "  [  3.   5.   5. ...   3.   4.   4.]\n",
      "  [  4.   4.   5. ...   3.   3.   2.]\n",
      "  [  3.   4.   5. ...   3.   3.   3.]]]\n",
      "matriz inverse wavelet \n",
      " [[[16. 21. 25. ... 25. 22. 19.]\n",
      "  [19. 25. 29. ... 29. 25. 22.]\n",
      "  [22. 28. 34. ... 34. 29. 25.]\n",
      "  ...\n",
      "  [22. 28. 33. ... 34. 30. 26.]\n",
      "  [19. 24. 29. ... 30. 25. 23.]\n",
      "  [16. 21. 25. ... 25. 22. 19.]]]\n"
     ]
    }
   ],
   "source": [
    "image_data_empty = ImageRaw.get_image_structure_empty()\n",
    "\n",
    "print('original imagen \\n',original_image)\n",
    "\n",
    "wav = Wavelet(original_image,3)\n",
    "\n",
    "matriz_wavelet = wav.forward(image_data_empty)\n",
    "\n",
    "print('matriz forward Wavelet\\n',matriz_wavelet)\n",
    "\n",
    "matriz_recuperada = wav.inverse(matriz_wavelet,image_data_empty)\n",
    "\n",
    "print('matriz inverse wavelet \\n',matriz_recuperada)\n",
    "\n"
   ]
  },
  {
   "cell_type": "code",
   "execution_count": 4,
   "metadata": {},
   "outputs": [
    {
     "data": {
      "text/plain": [
       "'\\npred = Prediction(original_image)\\nimagen_prima = pred.east_pred(image_data_empty)\\nresidu=original_image-imagen_prima\\nprint(residu)\\n'"
      ]
     },
     "execution_count": 4,
     "metadata": {},
     "output_type": "execute_result"
    }
   ],
   "source": [
    "'''\n",
    "pred = Prediction(original_image)\n",
    "imagen_prima = pred.east_pred(image_data_empty)\n",
    "residu=original_image-imagen_prima\n",
    "print(residu)\n",
    "'''\n",
    "\n"
   ]
  },
  {
   "cell_type": "code",
   "execution_count": 3,
   "metadata": {},
   "outputs": [
    {
     "name": "stdout",
     "output_type": "stream",
     "text": [
      "[[[ 0.  0.  0. ...  0.  0.  0.]\n",
      "  [ 0.  0.  0. ...  0.  0.  0.]\n",
      "  [ 0.  0. 24. ... 33. 30. 26.]\n",
      "  ...\n",
      "  [ 0.  0. 30. ... 42. 37. 32.]\n",
      "  [ 0.  0. 27. ... 37. 33. 28.]\n",
      "  [ 0.  0. 23. ... 32. 28. 25.]]]\n"
     ]
    },
    {
     "data": {
      "text/plain": [
       "'\\npred2 = Prediction(original_image)\\nimagen_prima2 = pred2.north(image_data_empty)\\nresidu2 = original_image-imagen_prima2\\nprint(residu2)\\n\\npred3 = Prediction(original_image)\\nimagen_prima3 = pred3.northeast(image_data_empty)\\nresidu3 = original_image-imagen_prima3\\nprint(residu3)\\n'"
      ]
     },
     "execution_count": 3,
     "metadata": {},
     "output_type": "execute_result"
    }
   ],
   "source": [
    "image_data_empty = ImageRaw.get_image_structure_empty()\n",
    "pred1 = Prediction(original_image)\n",
    "imagen_prima1 = pred1.north_and_east(image_data_empty)\n",
    "residu1 = original_image-imagen_prima1\n",
    "print(residu1)\n",
    "'''\n",
    "pred2 = Prediction(original_image)\n",
    "imagen_prima2 = pred2.north(image_data_empty)\n",
    "residu2 = original_image-imagen_prima2\n",
    "print(residu2)\n",
    "\n",
    "pred3 = Prediction(original_image)\n",
    "imagen_prima3 = pred3.northeast(image_data_empty)\n",
    "residu3 = original_image-imagen_prima3\n",
    "print(residu3)\n",
    "'''"
   ]
  },
  {
   "cell_type": "code",
   "execution_count": 4,
   "metadata": {},
   "outputs": [
    {
     "name": "stdout",
     "output_type": "stream",
     "text": [
      "Entropia imagen original: 6.7004541529645625\n",
      "Entropia predictor north and east (residu): 6.587920365229921\n"
     ]
    },
    {
     "data": {
      "text/plain": [
       "'\\nstatistics5 = statistics(residu2)\\nentropy5 = statistics5.compute_entropy()\\nprint(\"Entropia predictor north (residu):\", entropy5)\\n\\nstatistics6 = statistics(residu3)\\nentropy6 = statistics6.compute_entropy()\\nprint(\"Entropia predictor northeast (residu):\", entropy6)\\n'"
      ]
     },
     "execution_count": 4,
     "metadata": {},
     "output_type": "execute_result"
    }
   ],
   "source": [
    "\n",
    "statistics1 = statistics(original_image)\n",
    "entropy1 = statistics1.compute_entropy()\n",
    "print(\"Entropia imagen original:\", entropy1)\n",
    "\n",
    "'''\n",
    "statistics2 = statistics(matriz_wavelet)\n",
    "entropy2 = statistics2.compute_entropy()\n",
    "print(\"Entropia wavelet forward:\", entropy2)\n",
    "\n",
    "statistics3 = statistics(residu)\n",
    "entropy3 = statistics3.compute_entropy()\n",
    "print(\"Entropia predictor east (residu):\", entropy3)\n",
    "'''\n",
    "statistics4 = statistics(residu1)\n",
    "entropy4 = statistics4.compute_entropy()\n",
    "print(\"Entropia predictor north and east (residu):\", entropy4)\n",
    "'''\n",
    "statistics5 = statistics(residu2)\n",
    "entropy5 = statistics5.compute_entropy()\n",
    "print(\"Entropia predictor north (residu):\", entropy5)\n",
    "\n",
    "statistics6 = statistics(residu3)\n",
    "entropy6 = statistics6.compute_entropy()\n",
    "print(\"Entropia predictor northeast (residu):\", entropy6)\n",
    "'''"
   ]
  },
  {
   "cell_type": "code",
   "execution_count": null,
   "metadata": {},
   "outputs": [],
   "source": []
  }
 ],
 "metadata": {
  "kernelspec": {
   "display_name": "Python 3 (ipykernel)",
   "language": "python",
   "name": "python3"
  },
  "language_info": {
   "codemirror_mode": {
    "name": "ipython",
    "version": 3
   },
   "file_extension": ".py",
   "mimetype": "text/x-python",
   "name": "python",
   "nbconvert_exporter": "python",
   "pygments_lexer": "ipython3",
   "version": "3.9.7"
  },
  "toc-autonumbering": true
 },
 "nbformat": 4,
 "nbformat_minor": 4
}
