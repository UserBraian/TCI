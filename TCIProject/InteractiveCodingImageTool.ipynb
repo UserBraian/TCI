{
 "cells": [
  {
   "cell_type": "code",
   "execution_count": 1,
   "metadata": {},
   "outputs": [],
   "source": [
    "import sys\n",
    "import os\n",
    "import numpy as np\n",
    "\n",
    "from codingTools import *"
   ]
  },
  {
   "cell_type": "code",
   "execution_count": 2,
   "metadata": {},
   "outputs": [],
   "source": [
    "######LOAD RAW IMAGE######\n",
    "#dtype --> > stands for big endian, i stands for integer, 2 stands for 2 bytes\n",
    "#originalFile=\"../images/03508649.1_512_512_2_0_12_0_0_0.raw\" #int16\n",
    "#originalFile=\"../images/n1_GRAY.1_2560_2048_1_0_8_0_0_0.raw\" #uint8\n",
    "#originalFile=\"../images/03508649.1_128_128_1_0_8_0_0_0.raw\"\n",
    "#ImageRaw = load_image_raw(originalFile, 1, 128, 128, \"uint8\")\n",
    "originalFile = \"../images/03508649.1_512_512_2_0_12_0_0_0d.raw\"\n",
    "ImageRaw = load_image_raw(originalFile, 1, 512, 512, \">i2\") #https://numpy.org/doc/stable/reference/arrays.dtypes.html\n",
    "original_image = ImageRaw.load_image_raw()\n",
    "##############################"
   ]
  },
  {
   "cell_type": "code",
   "execution_count": null,
   "metadata": {},
   "outputs": [],
   "source": [
    "########STATISTICS##########\n",
    "statistics = statistics(original_image)\n",
    "entropy = statistics.compute_entropy()\n",
    "print(\"order zero entropy of the image:\", entropy)\n",
    "\n",
    "print('Max value:', statistics.max_value)\n",
    "print('Min value:', statistics.min_value)\n",
    "print('Dynamic range:', statistics.dynamic_range)\n",
    "\n",
    "\n"
   ]
  },
  {
   "cell_type": "code",
   "execution_count": null,
   "metadata": {},
   "outputs": [],
   "source": [
    "## input bitstream ##\n",
    "inputbit = binary_file_input('bitpacket.txt')\n",
    "inputbit.open_binay_file_input()\n",
    "\n",
    "inputbit.read_value(10)\n"
   ]
  },
  {
   "cell_type": "code",
   "execution_count": null,
   "metadata": {},
   "outputs": [],
   "source": [
    "## output bitstream ##\n",
    "outputbit = binary_file_output('test.txt')\n",
    "\n",
    "value = 999999999\n",
    "nBits = utils.needed_bits(value)\n",
    "print('num of bits:', nBits)\n",
    "\n",
    "outputbit.open_binay_file_output()\n",
    "outputbit.write_value(value, nBits)\n",
    "outputbit.close_binary_file_output()\n",
    "\n",
    "print('size file:',outputbit.size_of_file())"
   ]
  },
  {
   "cell_type": "code",
   "execution_count": null,
   "metadata": {},
   "outputs": [],
   "source": [
    "lista_tridimensional = [\n",
    "    [\n",
    "        [7, 12, 8, 10, 6, 4, 34, 68],\n",
    "        [21, 33, 5, 1, 6, 9, 77, 88],\n",
    "        [15, 10, 9, 4, 65, 98, 45, 16],\n",
    "        [11, 19, 27, 29, 44, 37, 66, 52],\n",
    "        [122, 146, 173, 200, 206, 201, 188, 197],\n",
    "        [101, 108, 100, 164, 222, 178, 210, 225],\n",
    "        [50, 30, 20, 5, 199, 240, 202, 190],\n",
    "        [15, 25, 2, 10, 100, 45, 21, 2],\n",
    "    ]\n",
    "]\n",
    "\n",
    "# Convertir a NumPy array\n",
    "imagen_prueba = np.array(lista_tridimensional)\n",
    "\n",
    "# Imprimir el array de NumPy\n",
    "print(imagen_prueba)\n",
    "\n",
    "imagen_vacia=np.zeros((1,8,8))\n",
    "#print(imagen_vacia)"
   ]
  },
  {
   "cell_type": "code",
   "execution_count": null,
   "metadata": {},
   "outputs": [],
   "source": [
    "wav = Wavelet(imagen_prueba,3)\n",
    "wav_forw = wav.forward(imagen_vacia)\n",
    "print('forward \\n',wav_forw)\n",
    "print('\\n')\n",
    "wav_inv = wav.inverse(wav_forw,imagen_vacia)\n",
    "print('inverse \\n',wav_inv)"
   ]
  },
  {
   "cell_type": "code",
   "execution_count": null,
   "metadata": {},
   "outputs": [],
   "source": [
    "image_data_empty = ImageRaw.get_image_structure_empty()\n",
    "\n",
    "print('original imagen \\n',original_image)\n",
    "\n",
    "wav = Wavelet(original_image,3)\n",
    "\n",
    "matriz_wavelet = wav.forward(image_data_empty)\n",
    "\n",
    "print('matriz forward Wavelet\\n',matriz_wavelet)\n",
    "\n",
    "matriz_recuperada = wav.inverse(matriz_wavelet,image_data_empty)\n",
    "\n",
    "print('matriz inverse wavelet \\n',matriz_recuperada)\n",
    "\n"
   ]
  },
  {
   "cell_type": "code",
   "execution_count": null,
   "metadata": {},
   "outputs": [],
   "source": [
    "image_data_empty = ImageRaw.get_image_structure_empty()\n",
    "pred1 = Prediction(original_image)\n",
    "imagen_prima1 = pred1.north_and_east(image_data_empty)\n",
    "residu1 = original_image-imagen_prima1\n",
    "print(residu1)\n",
    "\n",
    "q = Quantizer(1,10)\n",
    "image_quantized = ImageRaw.get_image_structure_empty()\n",
    "q.quantize(residu1,image_quantized)# image quantized = r prima !!hem de treballar amb aquesta\n",
    "\n",
    "image_DEquantized = ImageRaw.get_image_structure_empty()\n",
    "q.dequantize(image_quantized,image_DEquantized) # image desquantized = r barret\n",
    "\n",
    "aux_image = image_DEquantized + imagen_prima1  # utilitzar rprima en el predictor \n",
    "\n",
    "print(aux_image)\n",
    "\n",
    "\n",
    "m = Metrics(original_image,aux_image)\n",
    "m.compute()\n",
    "\n"
   ]
  },
  {
   "cell_type": "code",
   "execution_count": null,
   "metadata": {},
   "outputs": [],
   "source": [
    "\n",
    "statistics1 = statistics(original_image)\n",
    "entropy1 = statistics1.compute_entropy()\n",
    "print(\"Entropia imagen original:\", entropy1)\n",
    "\n",
    "statistics4 = statistics(residu1)\n",
    "entropy4 = statistics4.compute_entropy()\n",
    "print(\"Entropia predictor north and east (residu):\", entropy4)\n",
    "\n",
    "statistics5 = statistics(image_quantized)\n",
    "entropy5 = statistics5.compute_entropy()\n",
    "print(\"Entropia predictor north and east (quantizado):\", entropy5)\n"
   ]
  },
  {
   "cell_type": "code",
   "execution_count": 3,
   "metadata": {},
   "outputs": [],
   "source": [
    "image_data_empty = ImageRaw.get_image_structure_empty()\n",
    "q=Quantizer(1,10)\n",
    "'''\n",
    "pred1 = Prediction(original_image)\n",
    "imagen_prima1 = pred1.north_and_east(image_data_empty)\n",
    "residu1 = original_image-imagen_prima1\n",
    "    \n",
    "q=Quantizer(1,10)\n",
    "img_q=ImageRaw.get_image_structure_empty()\n",
    "q.quantize(residu1, img_q)\n",
    "        \n",
    "img_desq=ImageRaw.get_image_structure_empty()\n",
    "q.dequantize(img_q, img_desq)\n",
    "'''\n",
    "        \n",
    "dimension = image_data_empty.shape[0]\n",
    "filas = image_data_empty.shape[1]\n",
    "columnas = image_data_empty.shape[2]\n",
    "#result = np.copy(empty_image)\n",
    "        \n",
    "p=ImageRaw.get_image_structure_empty()\n",
    "x_barret=ImageRaw.get_image_structure_empty()\n",
    "#r = ImageRaw.get_image_structure_empty()\n",
    "r_prima = 0#ImageRaw.get_image_structure_empty()\n",
    "r_2prima = 0#ImageRaw.get_image_structure_empty()\n",
    "        \n",
    "for dim in range(dimension):\n",
    "    for i in range(filas):\n",
    "        for j in range(columnas):     \n",
    "            if j==0:\n",
    "                p[dim][i][j]=0\n",
    "                #r[dim][i][j]=\n",
    "                r = original_image[dim][i][j] - p[dim][i][j] #codigo profe\n",
    "                r_prima= r//10 \n",
    "                #q.quantize(r,r_prima)\n",
    "                r_2prima = r_prima*10\n",
    "                #q.dequantize(r_prima,r_2prima)\n",
    "                x_barret[dim][i][j] =  p[dim][i][j] + r_2prima #[dim][i][j]  #codigo profe\n",
    "                \n",
    "            else:  \n",
    "                #codigo nuestro\n",
    "                #p[dim][i][j]=p[dim][i][j-1]+img_desq[dim][i][j]\n",
    "                \n",
    "                p[dim][i][j] = original_image[dim][i][j-1] #codigo profe\n",
    "                #r[dim][i][j]\n",
    "                r = original_image[dim][i][j] - p[dim][i][j] #codigo profe\n",
    "                r_prima= r//10\n",
    "                #q.quantize(r,r_prima)\n",
    "                r_2prima = r_prima*10\n",
    "                #q.dequantize(r_prima,r_2prima)\n",
    "                x_barret[dim][i][j] =  p[dim][i][j] + r_2prima #[dim][i][j]  #codigo profe\n",
    "        \n",
    "#x_barret=img_desq+p"
   ]
  },
  {
   "cell_type": "code",
   "execution_count": 4,
   "metadata": {},
   "outputs": [
    {
     "name": "stdout",
     "output_type": "stream",
     "text": [
      "bits 12\n",
      "MSE= 28.512107849121094\n",
      "PSNR= 57.69478487082531\n",
      "PAE= 9.0\n"
     ]
    }
   ],
   "source": [
    "image_data_empty = ImageRaw.get_image_structure_empty()\n",
    "pred1 = Prediction(x_barret)\n",
    "imagen_prima1 = pred1.north_and_east(image_data_empty)\n",
    "residu1 = original_image-imagen_prima1\n",
    "    \n",
    "q=Quantizer(1,10)\n",
    "img_q=ImageRaw.get_image_structure_empty()\n",
    "q.quantize(residu1, img_q)\n",
    "        \n",
    "img_desq=ImageRaw.get_image_structure_empty()\n",
    "q.dequantize(img_q, img_desq)\n",
    "        \n",
    "aux_img=img_desq+imagen_prima1\n",
    "m=Metrics(original_image, aux_img)\n",
    "m.compute()"
   ]
  },
  {
   "cell_type": "code",
   "execution_count": null,
   "metadata": {},
   "outputs": [],
   "source": []
  }
 ],
 "metadata": {
  "kernelspec": {
   "display_name": "Python 3 (ipykernel)",
   "language": "python",
   "name": "python3"
  },
  "language_info": {
   "codemirror_mode": {
    "name": "ipython",
    "version": 3
   },
   "file_extension": ".py",
   "mimetype": "text/x-python",
   "name": "python",
   "nbconvert_exporter": "python",
   "pygments_lexer": "ipython3",
   "version": "3.9.7"
  },
  "toc-autonumbering": true
 },
 "nbformat": 4,
 "nbformat_minor": 4
}
