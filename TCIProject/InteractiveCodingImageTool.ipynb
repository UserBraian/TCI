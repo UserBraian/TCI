{
 "cells": [
  {
   "cell_type": "code",
   "execution_count": 1,
   "metadata": {},
   "outputs": [],
   "source": [
    "import sys\n",
    "import os\n",
    "import numpy as np\n",
    "\n",
    "from codingTools import *"
   ]
  },
  {
   "cell_type": "code",
   "execution_count": 2,
   "metadata": {},
   "outputs": [],
   "source": [
    "######LOAD RAW IMAGE######\n",
    "#dtype --> > stands for big endian, i stands for integer, 2 stands for 2 bytes\n",
    "#originalFile=\"../images/03508649.1_512_512_2_0_12_0_0_0.raw\" #int16\n",
    "originalFile=\"../images/n1_GRAY.1_2560_2048_1_0_8_0_0_0.raw\" #uint8\n",
    "ImageRaw = load_image_raw(originalFile, 1, 2560, 2048, \"uint8\") #https://numpy.org/doc/stable/reference/arrays.dtypes.html\n",
    "original_image = ImageRaw.load_image_raw()\n",
    "##############################"
   ]
  },
  {
   "cell_type": "code",
   "execution_count": 3,
   "metadata": {},
   "outputs": [
    {
     "name": "stdout",
     "output_type": "stream",
     "text": [
      "order zero entropy of the image:  7.426142695578908\n",
      "hola\n"
     ]
    }
   ],
   "source": [
    "########STATISTICS##########\n",
    "statistics = statistics(original_image)\n",
    "entropy = statistics.compute_entropy()\n",
    "print(\"order zero entropy of the image: \",entropy)\n",
    "print('hola')"
   ]
  },
  {
   "cell_type": "code",
   "execution_count": null,
   "metadata": {},
   "outputs": [],
   "source": []
  },
  {
   "cell_type": "code",
   "execution_count": null,
   "metadata": {},
   "outputs": [],
   "source": []
  },
  {
   "cell_type": "code",
   "execution_count": null,
   "metadata": {},
   "outputs": [],
   "source": []
  }
 ],
 "metadata": {
  "kernelspec": {
   "display_name": "Python 3 (ipykernel)",
   "language": "python",
   "name": "python3"
  },
  "language_info": {
   "codemirror_mode": {
    "name": "ipython",
    "version": 3
   },
   "file_extension": ".py",
   "mimetype": "text/x-python",
   "name": "python",
   "nbconvert_exporter": "python",
   "pygments_lexer": "ipython3",
   "version": "3.9.7"
  },
  "toc-autonumbering": true
 },
 "nbformat": 4,
 "nbformat_minor": 4
}
