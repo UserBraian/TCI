{
 "cells": [
  {
   "cell_type": "code",
   "execution_count": null,
   "metadata": {},
   "outputs": [],
   "source": [
    "'''\n",
    "GRUP 6 - TCI\n",
    "1497657 - Braian Maldonado Arce\n",
    "1532569 - Lluis Garcia Monreal\n",
    "'''"
   ]
  },
  {
   "cell_type": "code",
   "execution_count": 1,
   "metadata": {},
   "outputs": [],
   "source": [
    "import sys\n",
    "import os\n",
    "import numpy as np\n",
    "\n",
    "from codingTools import *"
   ]
  },
  {
   "cell_type": "code",
   "execution_count": 2,
   "metadata": {},
   "outputs": [],
   "source": [
    "\n",
    "# PARA BITPACKING !!!!\n",
    "######LOAD RAW IMAGE###### \n",
    "#dtype --> > stands for big endian, i stands for integer, 2 stands for 2 bytes\n",
    "\n",
    "#funciona\n",
    "originalFile=\"../images/n1_GRAY.1_2560_2048_1_0_8_0_0_0.raw\" #uint8\n",
    "ImageRaw = load_image_raw(originalFile, 1, 2560, 2048, \"uint8\") #https://numpy.org/doc/stable/reference/arrays.dtypes.html\n",
    "original_image = ImageRaw.load_image_raw()\n",
    "##############################"
   ]
  },
  {
   "cell_type": "code",
   "execution_count": 3,
   "metadata": {},
   "outputs": [
    {
     "name": "stdout",
     "output_type": "stream",
     "text": [
      "open ok\n",
      "open ok\n",
      "[[[ True  True  True ...  True  True  True]\n",
      "  [ True  True  True ...  True  True  True]\n",
      "  [ True  True  True ...  True  True  True]\n",
      "  ...\n",
      "  [ True  True  True ...  True  True  True]\n",
      "  [ True  True  True ...  True  True  True]\n",
      "  [ True  True  True ...  True  True  True]]]\n"
     ]
    }
   ],
   "source": [
    "# BITPACKING EXECUTION\n",
    "BP = BitPacking(\"../images/n1_GRAY.1_2560_2048_1_0_8_0_0_0BITPACKING.raw\",original_image)\n",
    "BP.coding()\n",
    "imagenResultado = BP.decoding()\n",
    "\n",
    "#print(original_image == imagenResultado)"
   ]
  },
  {
   "cell_type": "code",
   "execution_count": null,
   "metadata": {},
   "outputs": [],
   "source": []
  },
  {
   "cell_type": "code",
   "execution_count": null,
   "metadata": {},
   "outputs": [],
   "source": [
    "#Elegir imagen para aplicar todas las funcionalidades:"
   ]
  },
  {
   "cell_type": "code",
   "execution_count": 2,
   "metadata": {},
   "outputs": [],
   "source": [
    "######LOAD RAW IMAGE######\n",
    "#dtype --> > stands for big endian, i stands for integer, 2 stands for 2 bytes\n",
    "#originalFile=\"../images/03508649.1_512_512_2_0_12_0_0_0.raw\" #int16\n",
    "#originalFile=\"../images/n1_GRAY.1_2560_2048_1_0_8_0_0_0.raw\" #uint8\n",
    "#originalFile=\"../images/03508649.1_128_128_1_0_8_0_0_0.raw\"\n",
    "#ImageRaw = load_image_raw(originalFile, 1, 128, 128, \"uint8\")\n",
    "originalFile = \"../images/03508649.1_512_512_2_0_12_0_0_0d.raw\"\n",
    "ImageRaw = load_image_raw(originalFile, 1, 512, 512, \">i2\") #https://numpy.org/doc/stable/reference/arrays.dtypes.html\n",
    "original_image = ImageRaw.load_image_raw()\n",
    "##############################"
   ]
  },
  {
   "cell_type": "code",
   "execution_count": 4,
   "metadata": {},
   "outputs": [
    {
     "name": "stdout",
     "output_type": "stream",
     "text": [
      "order zero entropy of the image: 10.431490855522489\n",
      "Max value: 3438\n",
      "Min value: 181\n",
      "Dynamic range: 3257\n"
     ]
    }
   ],
   "source": [
    "########STATISTICS##########\n",
    "statisticsINICI = statistics(original_image)\n",
    "entropyINICI = statisticsINICI.compute_entropy()\n",
    "print(\"order zero entropy of the image:\", entropyINICI)\n",
    "\n",
    "print('Max value:', statisticsINICI.max_value)\n",
    "print('Min value:', statisticsINICI.min_value)\n",
    "print('Dynamic range:', statisticsINICI.dynamic_range)\n",
    "\n",
    "\n"
   ]
  },
  {
   "cell_type": "code",
   "execution_count": 5,
   "metadata": {},
   "outputs": [
    {
     "name": "stdout",
     "output_type": "stream",
     "text": [
      "original imagen \n",
      " [[[356 359 386 ... 415 398 389]\n",
      "  [351 362 363 ... 417 405 398]\n",
      "  [355 363 394 ... 419 398 414]\n",
      "  ...\n",
      "  [361 375 414 ... 436 417 414]\n",
      "  [331 341 374 ... 442 380 406]\n",
      "  [332 344 354 ... 406 398 368]]]\n",
      "(1, 512, 512)\n",
      "dim: 1\n",
      "fil: 512\n",
      "col 512\n",
      "dim: 1\n",
      "fil: 256\n",
      "col 256\n",
      "dim: 1\n",
      "fil: 128\n",
      "col 128\n",
      "matriz forward Wavelet\n",
      " [[[439. 555. 644. ...   2.   9.   9.]\n",
      "  [527. 669. 786. ...  21.  27.   7.]\n",
      "  [617. 787. 922. ...  11.  11. -16.]\n",
      "  ...\n",
      "  [ 51.  -6.  22. ...  21.   4.   3.]\n",
      "  [ 10.   5.  -8. ...   6. -16. -26.]\n",
      "  [ -2.  11. -14. ... -25.  -8.  30.]]]\n",
      "matriz inverse wavelet \n",
      " [[[356. 359. 386. ... 415. 398. 389.]\n",
      "  [351. 362. 363. ... 417. 405. 398.]\n",
      "  [355. 363. 394. ... 419. 398. 414.]\n",
      "  ...\n",
      "  [361. 375. 414. ... 436. 417. 414.]\n",
      "  [331. 341. 374. ... 442. 380. 406.]\n",
      "  [332. 344. 354. ... 406. 398. 368.]]]\n"
     ]
    }
   ],
   "source": [
    "#WAVELET FUNCION FORWARD y INREVERSE\n",
    "\n",
    "image_data_empty = ImageRaw.get_image_structure_empty()\n",
    "\n",
    "print('original imagen \\n',original_image)\n",
    "\n",
    "wav = Wavelet(original_image,3)\n",
    "\n",
    "matriz_wavelet = wav.forward(image_data_empty)\n",
    "\n",
    "print('matriz forward Wavelet\\n',matriz_wavelet)\n",
    "\n",
    "matriz_recuperada = wav.inverse(matriz_wavelet,image_data_empty)\n",
    "\n",
    "print('matriz inverse wavelet \\n',matriz_recuperada)\n",
    "\n"
   ]
  },
  {
   "cell_type": "code",
   "execution_count": 3,
   "metadata": {},
   "outputs": [
    {
     "name": "stdout",
     "output_type": "stream",
     "text": [
      "[[[  0.   0.   0. ...   0.   0.   0.]\n",
      "  [  0.   0.   0. ...   0.   0.   0.]\n",
      "  [  0.   0. 364. ... 432. 415. 403.]\n",
      "  ...\n",
      "  [  0.   0. 377. ... 452. 438. 429.]\n",
      "  [  0.   0. 363. ... 442. 431. 415.]\n",
      "  [  0.   0. 359. ... 431. 409. 406.]]]\n",
      "[[[356. 359. 386. ... 415. 398. 389.]\n",
      "  [351. 362. 363. ... 417. 405. 398.]\n",
      "  [355. 363. 390. ... 417. 393. 411.]\n",
      "  ...\n",
      "  [361. 375. 407. ... 434. 409. 405.]\n",
      "  [331. 341. 371. ... 440. 379. 401.]\n",
      "  [332. 344. 345. ... 405. 389. 362.]]]\n",
      "bits 12\n",
      "MSE= 28.3375244140625\n",
      "PSNR= 57.72145904893747\n",
      "PAE= 9.0\n"
     ]
    }
   ],
   "source": [
    "# PREDICCION Y CUANTIFICACIÓN para ver el mejor predictor \n",
    "image_data_empty = ImageRaw.get_image_structure_empty()\n",
    "pred1 = Prediction(original_image)\n",
    "imagen_prima1 = pred1.north_and_east(image_data_empty)\n",
    "residu1 = original_image-imagen_prima1\n",
    "print(residu1)\n",
    "\n",
    "q = Quantizer(1,10)\n",
    "image_quantized = ImageRaw.get_image_structure_empty()\n",
    "q.quantize(residu1,image_quantized)# image quantized = r prima !!hem de treballar amb aquesta\n",
    "\n",
    "image_DEquantized = ImageRaw.get_image_structure_empty()\n",
    "q.dequantize(image_quantized,image_DEquantized) # image desquantized = r barret\n",
    "\n",
    "aux_image = image_DEquantized + imagen_prima1  # utilitzar rprima en el predictor \n",
    "\n",
    "print(aux_image)\n",
    "\n",
    "\n",
    "m = Metrics(original_image,aux_image)\n",
    "m.compute()\n",
    "\n"
   ]
  },
  {
   "cell_type": "code",
   "execution_count": 4,
   "metadata": {},
   "outputs": [
    {
     "name": "stdout",
     "output_type": "stream",
     "text": [
      "Entropia imagen original: 10.431490855522489\n",
      "Entropia predictor north and east (residu): 10.369048363504998\n",
      "Entropia predictor north and east (quantizado): 7.081423063889048\n"
     ]
    }
   ],
   "source": [
    "#RESULTADOS PREDICTOR\n",
    "statistics1 = statistics(original_image)\n",
    "entropy1 = statistics1.compute_entropy()\n",
    "print(\"Entropia imagen original:\", entropy1)\n",
    "\n",
    "statistics4 = statistics(residu1)\n",
    "entropy4 = statistics4.compute_entropy()\n",
    "print(\"Entropia predictor north and east (residu):\", entropy4)\n",
    "\n",
    "statistics5 = statistics(image_quantized)\n",
    "entropy5 = statistics5.compute_entropy()\n",
    "print(\"Entropia predictor north and east (quantizado):\", entropy5)\n"
   ]
  },
  {
   "cell_type": "code",
   "execution_count": 5,
   "metadata": {},
   "outputs": [],
   "source": [
    "#PREDICTOR + CUANTIZADOR FINAL (ultimas 2 sesiones)\n",
    "image_data_empty = ImageRaw.get_image_structure_empty()\n",
    "q=Quantizer(1,10)\n",
    "        \n",
    "dimension = image_data_empty.shape[0]\n",
    "filas = image_data_empty.shape[1]\n",
    "columnas = image_data_empty.shape[2]\n",
    "#result = np.copy(empty_image)\n",
    "        \n",
    "p=ImageRaw.get_image_structure_empty()\n",
    "x_barret=ImageRaw.get_image_structure_empty()\n",
    "#r = ImageRaw.get_image_structure_empty()\n",
    "r_prima = 0#ImageRaw.get_image_structure_empty()\n",
    "r_2prima = 0#ImageRaw.get_image_structure_empty()\n",
    "        \n",
    "for dim in range(dimension):\n",
    "    for i in range(filas):\n",
    "        for j in range(columnas):     \n",
    "            if j==0:\n",
    "                p[dim][i][j]=0\n",
    "                #r[dim][i][j]=\n",
    "                r = original_image[dim][i][j] - p[dim][i][j] #codigo profe\n",
    "                r_prima= r//10 \n",
    "                #q.quantize(r,r_prima)\n",
    "                r_2prima = r_prima*10\n",
    "                #q.dequantize(r_prima,r_2prima)\n",
    "                x_barret[dim][i][j] =  p[dim][i][j] + r_2prima #[dim][i][j]  #codigo profe\n",
    "                \n",
    "            else:  \n",
    "                #codigo nuestro\n",
    "                #p[dim][i][j]=p[dim][i][j-1]+img_desq[dim][i][j]\n",
    "                \n",
    "                p[dim][i][j] = original_image[dim][i][j-1] #codigo profe\n",
    "                #r[dim][i][j]\n",
    "                r = original_image[dim][i][j] - p[dim][i][j] #codigo profe\n",
    "                r_prima= r//10\n",
    "                #q.quantize(r,r_prima)\n",
    "                r_2prima = r_prima*10\n",
    "                #q.dequantize(r_prima,r_2prima)\n",
    "                x_barret[dim][i][j] =  p[dim][i][j] + r_2prima #[dim][i][j]  #codigo profe\n",
    "        \n"
   ]
  },
  {
   "cell_type": "code",
   "execution_count": 6,
   "metadata": {},
   "outputs": [
    {
     "name": "stdout",
     "output_type": "stream",
     "text": [
      "bits 12\n",
      "MSE= 28.512107849121094\n",
      "PSNR= 57.69478487082531\n",
      "PAE= 9.0\n"
     ]
    }
   ],
   "source": [
    "#RESULTADOS \n",
    "image_data_empty = ImageRaw.get_image_structure_empty()\n",
    "pred1 = Prediction(x_barret)\n",
    "imagen_prima1 = pred1.north_and_east(image_data_empty)\n",
    "residu1 = original_image-imagen_prima1\n",
    "    \n",
    "q=Quantizer(1,10)\n",
    "img_q=ImageRaw.get_image_structure_empty()\n",
    "q.quantize(residu1, img_q)\n",
    "        \n",
    "img_desq=ImageRaw.get_image_structure_empty()\n",
    "q.dequantize(img_q, img_desq)\n",
    "        \n",
    "aux_img=img_desq+imagen_prima1\n",
    "m=Metrics(original_image, aux_img)\n",
    "m.compute()"
   ]
  }
 ],
 "metadata": {
  "kernelspec": {
   "display_name": "Python 3 (ipykernel)",
   "language": "python",
   "name": "python3"
  },
  "language_info": {
   "codemirror_mode": {
    "name": "ipython",
    "version": 3
   },
   "file_extension": ".py",
   "mimetype": "text/x-python",
   "name": "python",
   "nbconvert_exporter": "python",
   "pygments_lexer": "ipython3",
   "version": "3.9.7"
  },
  "toc-autonumbering": true
 },
 "nbformat": 4,
 "nbformat_minor": 4
}
